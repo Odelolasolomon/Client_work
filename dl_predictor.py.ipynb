{
 "cells": [
  {
   "cell_type": "code",
   "execution_count": null,
   "id": "8c75db79",
   "metadata": {},
   "outputs": [],
   "source": [
    "import numpy as np\n",
    "import tensorflow as tf\n",
    "import pandas as pd\n",
    "from tensorflow import keras\n",
    "from tensorflow.keras.models import load_model\n",
    "from tensorflow.keras.wrappers.scikit_learn import KerasClassifier\n",
    "\n",
    "\n",
    "# This is where you load the actual saved model into new variable.\n",
    "model_identifier = \"326693495863495c8fa7b906c67af1df\"\n",
    "model2 = load_model(\"rnswr_model_\"+model_identifier+\".h\")\n",
    "\n",
    "def make_prediction(filename):\n",
    "    df = pd.read_csv(filename)\n",
    "    y_pred = model2.predict(df)\n",
    "    predicted = np.argmax(y_pred,axis=1)[0]\n",
    "    # 0 -> E, 1 -> G, 2 -> L\n",
    "    prediction = \"\"\n",
    "    if predicted == 0:\n",
    "        prediction = \"E\"\n",
    "    if predicted == 1:\n",
    "        prediction = \"G\"\n",
    "    if predicted == 2:\n",
    "        prediction = \"L\"\n",
    "    print(prediction)\n",
    "\n",
    "\n",
    "if __name__ == \"__main__\":\n",
    "    # This is where you can specify the path to the CSV file.\n",
    "    make_prediction(\"path_to_csv.csv\")\n"
   ]
  }
 ],
 "metadata": {
  "kernelspec": {
   "display_name": "Python 3 (ipykernel)",
   "language": "python",
   "name": "python3"
  },
  "language_info": {
   "codemirror_mode": {
    "name": "ipython",
    "version": 3
   },
   "file_extension": ".py",
   "mimetype": "text/x-python",
   "name": "python",
   "nbconvert_exporter": "python",
   "pygments_lexer": "ipython3",
   "version": "3.9.13"
  }
 },
 "nbformat": 4,
 "nbformat_minor": 5
}
