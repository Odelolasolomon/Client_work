{
 "cells": [
  {
   "cell_type": "code",
   "execution_count": null,
   "id": "a01d580d",
   "metadata": {},
   "outputs": [],
   "source": [
    "import joblib\n",
    "import pandas as pd\n",
    "\n",
    "def load_model():\n",
    "    # This is where you specify the path for the model to be used\n",
    "    MODEL_FILENAME = \"gbrtModel1\"\n",
    "    return joblib.load(MODEL_FILENAME)\n",
    "\n",
    "def make_prediction(df):\n",
    "    model = load_model()\n",
    "    to_predict = df.columns\n",
    "    predicted = model.predict(df[to_predict])\n",
    "    result = predicted[0]\n",
    "    print(result)\n",
    "    return result\n",
    "\n",
    "if __name__ == \"__main__\":\n",
    "  # This is where you specify the path to the artifact's csv.\n",
    "  filename = \"path_to_csv.csv\"\n",
    "  df = pd.read_csv(filename)\n",
    "  make_prediction(df)"
   ]
  }
 ],
 "metadata": {
  "kernelspec": {
   "display_name": "Python 3 (ipykernel)",
   "language": "python",
   "name": "python3"
  },
  "language_info": {
   "codemirror_mode": {
    "name": "ipython",
    "version": 3
   },
   "file_extension": ".py",
   "mimetype": "text/x-python",
   "name": "python",
   "nbconvert_exporter": "python",
   "pygments_lexer": "ipython3",
   "version": "3.9.13"
  }
 },
 "nbformat": 4,
 "nbformat_minor": 5
}
